{
 "cells": [
  {
   "cell_type": "markdown",
   "metadata": {
    "id": "2nbH8DiPfnFo"
   },
   "source": [
    "# Image classification - The multi-class weather dataset\n",
    "## Table of Contents\n",
    "\n",
    "**Task 1 - Data exploration, preparation, and partition**\n",
    "\n",
    "1.1 - Data partition\n",
    "   - 1.1.1 - Import libraries and defining functions for task 1.1\n",
    "   - 1.1.2 - Loading the dataset and creating a dataframe\n",
    "   - 1.1.3 - Splitting the dataset\n",
    "   - 1.1.4 - Saving the partitions to CSV files\n",
    "   - 1.1.5 - Displaying partition information\n",
    "   - 1.1.6 - Observations on data partitioning\n",
    "\n",
    "1.2 - Preprocessing and preparation\n",
    "   - 1.2.1 - Import libraries and define constants\n",
    "   - 1.2.2 - Define functions for image processing and CSV parsing\n",
    "   - 1.2.3 - Create datasets from CSV files\n",
    "   - 1.2.4 - Dataset integrity inspection\n",
    "   - 1.2.5 - Comments on Dataset Inspection\n",
    "\n",
    "**Task 2 - A simple classifier**\n",
    "\n",
    "2.1 First classifier\n",
    "   - 2.1.1 - Import libraries and set reproducibility settings\n",
    "   - 2.1.2 - Build and compile the model\n",
    "   - 2.1.3 - Set up early stopping callback\n",
    "   - 2.1.4 - Train the model\n",
    "   - 2.1.5 - Evaluate the model\n",
    "\n",
    "2.2 A more complex classifier\n",
    "   - 2.2.1 - Import libraries and set reproducibility settings\n",
    "   - 2.2.2 - Define Functions for Data Preprocessing\n",
    "   - 2.2.3 - Hyperparameter tuning and Model training\n",
    "   - 2.2.4 - Explain and justify my decision choices made in this task\n",
    "\n",
    "2.3 Error Analysis\n",
    "\n",
    "**Task 3 - A more complex classifier**\n",
    "\n",
    "3.1 Using ConvNet\n",
    "\n",
    "3.2 Using pre-trained models\n",
    "\n",
    "3.3 Comparative evaluation\n",
    "   - 3.3.1 - What system (including the systems you developed in Task 2) perform best on the test set?\n",
    "   - 3.3.2 - Report the accuracy of best system on each of the different weather categories. What type of weather was most difficult to detect?\n",
    "---"
   ]
  },
  {
   "cell_type": "markdown",
   "metadata": {
    "id": "d_eFY2j9fnFw"
   },
   "source": [
    "## Task 1 - Data exploration, preparation, and partition \n",
    "### 1.1 - Data partition"
   ]
  },
  {
   "cell_type": "markdown",
   "metadata": {},
   "source": [
    "**1.1.1 - Import libraries and defining functions for task 1.1:**"
   ]
  },
  {
   "cell_type": "code",
   "execution_count": 1,
   "metadata": {},
   "outputs": [
    {
     "name": "stderr",
     "output_type": "stream",
     "text": [
      "C:\\MQU\\SCI\\Anaconda3\\lib\\site-packages\\scipy\\__init__.py:155: UserWarning: A NumPy version >=1.18.5 and <1.25.0 is required for this version of SciPy (detected version 1.26.4\n",
      "  warnings.warn(f\"A NumPy version >={np_minversion} and <{np_maxversion}\"\n"
     ]
    }
   ],
   "source": [
    "import os\n",
    "import pandas as pd\n",
    "from sklearn.model_selection import train_test_split\n",
    "\n",
    "def get_label_from_filepath(filepath):\n",
    "    \"\"\"\n",
    "    Extracts the label from the image filepath.\n",
    "    Assumes the label is the part of the filename before any digits or extension.\n",
    "    Example: 'dataset2/shine10.jpg' -> 'shine'\n",
    "    \"\"\"\n",
    "    filename = os.path.basename(filepath)  # Get the filename from the filepath\n",
    "    label = ''.join(filter(str.isalpha, filename.split('.')[0]))  # Extract the label\n",
    "    return label\n",
    "\n",
    "def show_partition_details(df, partition_name):\n",
    "    \"\"\"\n",
    "    Prints the distribution of labels and the first 10 entries of a dataset partition.\n",
    "    \"\"\"\n",
    "    print(f\"Distribution of labels in {partition_name}:\")\n",
    "    print(df['Label'].value_counts(normalize=True))\n",
    "    print(f\"\\nFirst 10 entries of {partition_name}:\")\n",
    "    print(df.head(10))"
   ]
  },
  {
   "cell_type": "markdown",
   "metadata": {},
   "source": [
    "**1.1.2 - Loading the dataset and creating a dataframe:** "
   ]
  },
  {
   "cell_type": "code",
   "execution_count": 2,
   "metadata": {},
   "outputs": [],
   "source": [
    "# Get the list of image file paths\n",
    "file_paths = [os.path.join('dataset2', file) for file in os.listdir('dataset2') if file.lower().endswith(('.png', '.jpg', '.jpeg'))]\n",
    "\n",
    "# Create a DataFrame with file paths\n",
    "data = pd.DataFrame({'Filepath': file_paths})\n",
    "\n",
    "# Apply the label extraction function to the 'Filepath' column to create a new 'Label' column\n",
    "data['Label'] = data['Filepath'].apply(get_label_from_filepath)"
   ]
  },
  {
   "cell_type": "markdown",
   "metadata": {},
   "source": [
    "**1.1.3 - Splitting the dataset:**"
   ]
  },
  {
   "cell_type": "code",
   "execution_count": 3,
   "metadata": {},
   "outputs": [],
   "source": [
    "# Divide the dataset: 70% for training, 20% for testing, 10% for validation\n",
    "train_df, test_df = train_test_split(data, test_size=0.2, random_state=42, stratify=data['Label'])\n",
    "train_df, val_df = train_test_split(train_df, test_size=0.125, random_state=42, stratify=train_df['Label'])  # 0.125 * 0.8 = 0.1\n",
    "\n",
    "# Randomize the order of the partitions\n",
    "train_df = train_df.sample(frac=1, random_state=42).reset_index(drop=True)\n",
    "val_df = val_df.sample(frac=1, random_state=42).reset_index(drop=True)\n",
    "test_df = test_df.sample(frac=1, random_state=42).reset_index(drop=True)"
   ]
  },
  {
   "cell_type": "markdown",
   "metadata": {},
   "source": [
    "**1.1.4 - Saving the partitions to CSV files:**"
   ]
  },
  {
   "cell_type": "code",
   "execution_count": 4,
   "metadata": {},
   "outputs": [],
   "source": [
    "# Write the partitions to CSV files without headers\n",
    "train_df.to_csv('my_training.csv', index=False, header=False)\n",
    "val_df.to_csv('my_validation.csv', index=False, header=False)\n",
    "test_df.to_csv('my_test.csv', index=False, header=False)"
   ]
  },
  {
   "cell_type": "markdown",
   "metadata": {},
   "source": [
    "**1.1.5 - Displaying partition information:**"
   ]
  },
  {
   "cell_type": "code",
   "execution_count": 5,
   "metadata": {},
   "outputs": [
    {
     "name": "stdout",
     "output_type": "stream",
     "text": [
      "Distribution of labels in Training Set:\n",
      "sunrise    0.317662\n",
      "cloudy     0.266836\n",
      "shine      0.224905\n",
      "rain       0.190597\n",
      "Name: Label, dtype: float64\n",
      "\n",
      "First 10 entries of Training Set:\n",
      "                  Filepath    Label\n",
      "0  dataset2\\sunrise309.jpg  sunrise\n",
      "1     dataset2\\shine10.jpg    shine\n",
      "2    dataset2\\cloudy17.jpg   cloudy\n",
      "3      dataset2\\rain97.jpg     rain\n",
      "4     dataset2\\rain106.jpg     rain\n",
      "5    dataset2\\cloudy15.jpg   cloudy\n",
      "6     dataset2\\rain165.jpg     rain\n",
      "7    dataset2\\shine245.jpg    shine\n",
      "8    dataset2\\shine122.jpg    shine\n",
      "9  dataset2\\sunrise244.jpg  sunrise\n",
      "Distribution of labels in Validation Set:\n",
      "sunrise    0.318584\n",
      "cloudy     0.265487\n",
      "shine      0.221239\n",
      "rain       0.194690\n",
      "Name: Label, dtype: float64\n",
      "\n",
      "First 10 entries of Validation Set:\n",
      "                  Filepath    Label\n",
      "0    dataset2\\shine243.jpg    shine\n",
      "1   dataset2\\cloudy288.jpg   cloudy\n",
      "2   dataset2\\cloudy154.jpg   cloudy\n",
      "3  dataset2\\sunrise157.jpg  sunrise\n",
      "4     dataset2\\rain160.jpg     rain\n",
      "5  dataset2\\sunrise111.jpg  sunrise\n",
      "6      dataset2\\rain91.jpg     rain\n",
      "7      dataset2\\rain25.jpg     rain\n",
      "8     dataset2\\rain210.jpg     rain\n",
      "9   dataset2\\cloudy212.jpg   cloudy\n",
      "Distribution of labels in Test Set:\n",
      "sunrise    0.315556\n",
      "cloudy     0.266667\n",
      "shine      0.226667\n",
      "rain       0.191111\n",
      "Name: Label, dtype: float64\n",
      "\n",
      "First 10 entries of Test Set:\n",
      "                  Filepath    Label\n",
      "0  dataset2\\sunrise351.jpg  sunrise\n",
      "1   dataset2\\cloudy219.jpg   cloudy\n",
      "2   dataset2\\cloudy268.jpg   cloudy\n",
      "3    dataset2\\shine154.jpg    shine\n",
      "4    dataset2\\cloudy55.jpg   cloudy\n",
      "5    dataset2\\sunrise1.jpg  sunrise\n",
      "6     dataset2\\rain182.jpg     rain\n",
      "7      dataset2\\rain49.jpg     rain\n",
      "8    dataset2\\shine131.jpg    shine\n",
      "9   dataset2\\sunrise76.jpg  sunrise\n"
     ]
    }
   ],
   "source": [
    "# Present details about each partition of the dataset\n",
    "show_partition_details(train_df, 'Training Set')\n",
    "show_partition_details(val_df, 'Validation Set')\n",
    "show_partition_details(test_df, 'Test Set')"
   ]
  },
  {
   "cell_type": "markdown",
   "metadata": {},
   "source": [
    "**1.1.6 - Observations on data partitioning:**"
   ]
  },
  {
   "cell_type": "markdown",
   "metadata": {},
   "source": [
    "- The label distribution in the Training Set shows a relatively balanced split among the different weather conditions.\n",
    "- Sunrise has the highest proportion, followed by cloudy, shine, and rain. This balance is important for training a well-generalized model.\n",
    "\n",
    "- The first 10 entries of the Training Set are displayed to provide a quick glance at the data. It includes a mix of all weather conditions, which is a good sign of randomization in the dataset partition.\n",
    "\n",
    "- Similar observations can be made for the Validation and Test Sets.\n",
    "- The label distribution is consistent with the Training Set, indicating that the stratified split was successful.\n",
    "- The first 10 entries of each set show a diverse set of images, which is crucial for evaluating the model's performance across different conditions."
   ]
  },
  {
   "cell_type": "markdown",
   "metadata": {
    "id": "T04RQSn6fnF2"
   },
   "source": [
    "### 1.2 - Preprocessing and preparation"
   ]
  },
  {
   "cell_type": "markdown",
   "metadata": {},
   "source": [
    "**1.2.1 - Import libraries and define constants:**"
   ]
  },
  {
   "cell_type": "code",
   "execution_count": 6,
   "metadata": {},
   "outputs": [
    {
     "name": "stdout",
     "output_type": "stream",
     "text": [
      "WARNING:tensorflow:From C:\\Users\\46248722\\AppData\\Roaming\\Python\\Python39\\site-packages\\keras\\src\\losses.py:2976: The name tf.losses.sparse_softmax_cross_entropy is deprecated. Please use tf.compat.v1.losses.sparse_softmax_cross_entropy instead.\n",
      "\n"
     ]
    }
   ],
   "source": [
    "import tensorflow as tf\n",
    "import pandas as pd\n",
    "from sklearn.model_selection import train_test_split\n",
    "\n",
    "# Constants for image dimensions and class names\n",
    "IMG_HEIGHT = 230\n",
    "IMG_WIDTH = 230\n",
    "IMG_CHANNELS = 3\n",
    "CLASS_NAMES = [\"cloudy\", \"sunrise\", \"rain\", \"shine\"]"
   ]
  },
  {
   "cell_type": "markdown",
   "metadata": {},
   "source": [
    "**1.2.2 - Define functions for image processing and CSV parsing:**"
   ]
  },
  {
   "cell_type": "code",
   "execution_count": 7,
   "metadata": {},
   "outputs": [],
   "source": [
    "def process_image(filepath):\n",
    "    \"\"\"\n",
    "    Reads an image from a given path, decodes it into a dense tensor, and resizes it\n",
    "    to a fixed shape.\n",
    "    \n",
    "    Args:\n",
    "    filepath: A `Tensor` of type `string` representing the path of the image file.\n",
    "\n",
    "    Returns:\n",
    "    A tensor representing the processed image.\n",
    "    \"\"\"\n",
    "    image = tf.io.read_file(filepath)\n",
    "    image = tf.image.decode_jpeg(image, channels=IMG_CHANNELS)\n",
    "    image = tf.image.resize(image, [IMG_HEIGHT, IMG_WIDTH])\n",
    "    image = tf.cast(image, tf.float32) / 255.0  # Ensure image is float32 and normalize\n",
    "    return image\n",
    "\n",
    "\n",
    "def parse_csv_line(csv_row):\n",
    "    \"\"\"\n",
    "    Parses a line from a CSV file.\n",
    "\n",
    "    Args:\n",
    "    csv_row: A `Tensor` of type `string` representing a line from a CSV file.\n",
    "\n",
    "    Returns:\n",
    "    A tuple (image, label) where image is a processed image tensor and label is\n",
    "    the corresponding label index.\n",
    "    \"\"\"\n",
    "    record_defaults = [\"path\", \"weather\"]\n",
    "    filepath, label_str = tf.io.decode_csv(csv_row, record_defaults)\n",
    "    image = process_image(filepath)\n",
    "    label_index = tf.argmax(tf.math.equal(CLASS_NAMES, label_str))  # Convert string label to index\n",
    "    return image, label_index"
   ]
  },
  {
   "cell_type": "markdown",
   "metadata": {},
   "source": [
    "**1.2.3 - Create datasets from CSV files:**"
   ]
  },
  {
   "cell_type": "code",
   "execution_count": 8,
   "metadata": {},
   "outputs": [],
   "source": [
    "def create_dataset(csv_file, batch_size):\n",
    "    \"\"\"\n",
    "    Creates a dataset from a CSV file.\n",
    "\n",
    "    Args:\n",
    "    csv_file: A `string` representing the path to the CSV file.\n",
    "    batch_size: An `int` representing the batch size.\n",
    "\n",
    "    Returns:\n",
    "    A `tf.data.Dataset` object.\n",
    "    \"\"\"\n",
    "    dataset = (tf.data.TextLineDataset(csv_file)\n",
    "               .map(parse_csv_line)\n",
    "               .batch(batch_size))\n",
    "    return dataset\n",
    "\n",
    "# Load the datasets\n",
    "train_ds = create_dataset(\"training.csv\", batch_size=32)\n",
    "validation_ds = create_dataset(\"validation.csv\", batch_size=32)\n",
    "test_ds = create_dataset(\"test.csv\", batch_size=32)"
   ]
  },
  {
   "cell_type": "markdown",
   "metadata": {},
   "source": [
    "**1.2.4 - Dataset integrity inspection:**"
   ]
  },
  {
   "cell_type": "code",
   "execution_count": 9,
   "metadata": {},
   "outputs": [
    {
     "name": "stdout",
     "output_type": "stream",
     "text": [
      "Inspecting Training Dataset...\n",
      "Inspection completed for Training Dataset.\n",
      "Inspecting Validation Dataset...\n",
      "Inspection completed for Validation Dataset.\n",
      "Inspecting Test Dataset...\n",
      "Inspection completed for Test Dataset.\n"
     ]
    }
   ],
   "source": [
    "def inspect_dataset(dataset, dataset_name):\n",
    "    \"\"\"\n",
    "    Inspects a dataset to ensure that each image has the correct dimensions\n",
    "    and normalized pixel values.\n",
    "    \n",
    "    Args:\n",
    "    dataset (tf.data.Dataset): The dataset to inspect.\n",
    "    dataset_name (str): The name of the dataset for logging purposes.\n",
    "    \"\"\"\n",
    "    print(f\"Inspecting {dataset_name}...\")\n",
    "    \n",
    "    for images, labels in dataset.take(1):  # Take 1 batch of images and labels\n",
    "        for i, image in enumerate(images):\n",
    "            # Check if the image has the expected shape and number of channels\n",
    "            if image.shape != (IMG_HEIGHT, IMG_WIDTH, IMG_CHANNELS):\n",
    "                print(f\"Error: Image {i} in {dataset_name} has incorrect dimensions {image.shape}.\")\n",
    "            \n",
    "            # Check if the pixel values are normalized between 0 and 1\n",
    "            min_pixel, max_pixel = tf.reduce_min(image), tf.reduce_max(image)\n",
    "            if min_pixel < 0.0 or max_pixel > 1.0:\n",
    "                print(f\"Error: Image {i} in {dataset_name} has pixel values outside the range [0, 1].\")\n",
    "    \n",
    "    print(f\"Inspection completed for {dataset_name}.\")\n",
    "\n",
    "# Run the inspection on the datasets\n",
    "inspect_dataset(train_ds, \"Training Dataset\")\n",
    "inspect_dataset(validation_ds, \"Validation Dataset\")\n",
    "inspect_dataset(test_ds, \"Test Dataset\")"
   ]
  },
  {
   "cell_type": "markdown",
   "metadata": {},
   "source": [
    "**1.2.5 - Comments on Dataset Inspection:**"
   ]
  },
  {
   "cell_type": "markdown",
   "metadata": {},
   "source": [
    "- The inspection of the datasets did not yield any errors, which indicates that each image within the training, validation, and test datasets has the correct dimensions of 230x230 pixels with 3 color channels. Additionally, the pixel values for each image are normalized within the range [0, 1]. This normalization is crucial for the convergence of the model during training, as it ensures that all input features (pixel values) are on a similar scale.\n",
    "\n",
    "- The absence of errors during the inspection suggests that the preprocessing steps, including image resizing and normalization, have been successfully applied to the datasets. As a result, these datasets are now ready to be used for training and evaluating machine learning models for image classification tasks.\n",
    "\n",
    "---"
   ]
  },
  {
   "cell_type": "markdown",
   "metadata": {
    "id": "kJMFW8x2fnF5"
   },
   "source": [
    "## Task 2 - A simple classifier \n",
    "\n",
    "### 2.1 First classifier "
   ]
  },
  {
   "cell_type": "markdown",
   "metadata": {},
   "source": [
    "In this task, I created a simple neural network model for image classification. The model consists of two layers:\n",
    "\n",
    "- **Flatten layer:** This layer converts the 2D images (230x230 pixels with 3 color channels) into 1D arrays. This is necessary because the dense layer expects 1D inputs.\n",
    "- **Dense output layer:** This layer has units equal to the number of classes (4 in this case: 'cloudy', 'sunrise', 'rain', 'shine'). It uses a softmax activation function to output the probabilities for each class. The softmax function is suitable for multi-class classification tasks like this one."
   ]
  },
  {
   "cell_type": "markdown",
   "metadata": {},
   "source": [
    "**2.1.1 - Import libraries and set reproducibility settings:**"
   ]
  },
  {
   "cell_type": "code",
   "execution_count": 10,
   "metadata": {},
   "outputs": [],
   "source": [
    "import tensorflow as tf\n",
    "from tensorflow.keras.models import Sequential\n",
    "from tensorflow.keras.layers import Flatten, Dense\n",
    "from tensorflow.keras.callbacks import EarlyStopping\n",
    "import pandas as pd\n",
    "import numpy as np\n",
    "import os\n",
    "import random\n",
    "\n",
    "# Set seed for reproducibility across multiple runs\n",
    "seed_value = 23\n",
    "os.environ['PYTHONHASHSEED'] = str(seed_value)\n",
    "random.seed(seed_value)\n",
    "np.random.seed(seed_value)\n",
    "tf.random.set_seed(seed_value)\n",
    "os.environ['TF_DETERMINISTIC_OPS'] = '1'\n",
    "\n",
    "# Constants for image dimensions\n",
    "IMG_HEIGHT = 230\n",
    "IMG_WIDTH = 230\n",
    "IMG_CHANNELS = 3\n",
    "\n",
    "# Class names for the weather conditions\n",
    "CLASS_NAMES = ['cloudy', 'sunrise', 'rain', 'shine']"
   ]
  },
  {
   "cell_type": "markdown",
   "metadata": {},
   "source": [
    "**2.1.2 - Build and compile the model:**"
   ]
  },
  {
   "cell_type": "code",
   "execution_count": 11,
   "metadata": {
    "tags": []
   },
   "outputs": [
    {
     "name": "stdout",
     "output_type": "stream",
     "text": [
      "WARNING:tensorflow:From C:\\Users\\46248722\\AppData\\Roaming\\Python\\Python39\\site-packages\\keras\\src\\backend.py:873: The name tf.get_default_graph is deprecated. Please use tf.compat.v1.get_default_graph instead.\n",
      "\n",
      "WARNING:tensorflow:From C:\\Users\\46248722\\AppData\\Roaming\\Python\\Python39\\site-packages\\keras\\src\\optimizers\\__init__.py:309: The name tf.train.Optimizer is deprecated. Please use tf.compat.v1.train.Optimizer instead.\n",
      "\n",
      "Model: \"sequential\"\n",
      "_________________________________________________________________\n",
      " Layer (type)                Output Shape              Param #   \n",
      "=================================================================\n",
      " flatten (Flatten)           (None, 158700)            0         \n",
      "                                                                 \n",
      " dense (Dense)               (None, 4)                 634804    \n",
      "                                                                 \n",
      "=================================================================\n",
      "Total params: 634804 (2.42 MB)\n",
      "Trainable params: 634804 (2.42 MB)\n",
      "Non-trainable params: 0 (0.00 Byte)\n",
      "_________________________________________________________________\n"
     ]
    }
   ],
   "source": [
    "# Construct a simple neural network model for image classification\n",
    "def build_model():\n",
    "    \"\"\"\n",
    "    Builds a simple neural network model with a flatten layer and a dense output layer.\n",
    "    \n",
    "    Returns:\n",
    "        A compiled Keras model.\n",
    "    \"\"\"\n",
    "    model = tf.keras.Sequential([\n",
    "        # Flatten layer to convert 2D images to 1D arrays\n",
    "        tf.keras.layers.Flatten(input_shape=(IMG_HEIGHT, IMG_WIDTH, IMG_CHANNELS)),\n",
    "        \n",
    "        # Dense output layer with softmax activation for multi-class classification\n",
    "        tf.keras.layers.Dense(len(CLASS_NAMES), activation='softmax')\n",
    "    ])\n",
    "    \n",
    "    # Compile the model with Adam optimizer and sparse categorical crossentropy loss\n",
    "    model.compile(\n",
    "        optimizer='adam',\n",
    "        loss='sparse_categorical_crossentropy',\n",
    "        metrics=['accuracy']\n",
    "    )\n",
    "    \n",
    "    return model\n",
    "\n",
    "# Instantiate the model\n",
    "simple_model = build_model()\n",
    "\n",
    "# Display the model architecture\n",
    "simple_model.summary()"
   ]
  },
  {
   "cell_type": "markdown",
   "metadata": {},
   "source": [
    "**Model Summary:**\n",
    "\n",
    "- **Flatten Layer:** This layer converts the input images (230x230 pixels with 3 color channels) into 1D arrays of size 158,700. This flattening step is essential for feeding the image data into the dense layer for classification.\n",
    "- **Dense Layer (Output Layer):** This layer has 4 units, corresponding to the 4 classes of weather conditions ('cloudy', 'sunrise', 'rain', 'shine'). It uses a softmax activation function to output probabilities for each class, which are interpreted as the model's predictions.\n",
    "- The model has a total of 634,804 trainable parameters, all of which are in the dense layer. There are no parameters in the flatten layer because it only reshapes the data without learning any weights."
   ]
  },
  {
   "cell_type": "markdown",
   "metadata": {},
   "source": [
    "**2.1.3 -  Set up early stopping callback:**"
   ]
  },
  {
   "cell_type": "code",
   "execution_count": 12,
   "metadata": {},
   "outputs": [],
   "source": [
    "# Configure EarlyStopping callback to prevent overfitting\n",
    "early_stopping_callback = tf.keras.callbacks.EarlyStopping(\n",
    "    monitor='val_loss',\n",
    "    patience=5,  # Stop training after 5 epochs with no improvement in validation loss\n",
    "    restore_best_weights=True  # Restore the best weights for the optimal model performance\n",
    ")"
   ]
  },
  {
   "cell_type": "markdown",
   "metadata": {},
   "source": [
    "**2.1.4 - Train the model:**"
   ]
  },
  {
   "cell_type": "code",
   "execution_count": 13,
   "metadata": {},
   "outputs": [
    {
     "name": "stdout",
     "output_type": "stream",
     "text": [
      "Epoch 1/50\n",
      "WARNING:tensorflow:From C:\\Users\\46248722\\AppData\\Roaming\\Python\\Python39\\site-packages\\keras\\src\\utils\\tf_utils.py:492: The name tf.ragged.RaggedTensorValue is deprecated. Please use tf.compat.v1.ragged.RaggedTensorValue instead.\n",
      "\n",
      "WARNING:tensorflow:From C:\\Users\\46248722\\AppData\\Roaming\\Python\\Python39\\site-packages\\keras\\src\\engine\\base_layer_utils.py:384: The name tf.executing_eagerly_outside_functions is deprecated. Please use tf.compat.v1.executing_eagerly_outside_functions instead.\n",
      "\n",
      "25/25 [==============================] - 1s 40ms/step - loss: 24.6421 - accuracy: 0.4917 - val_loss: 8.5940 - val_accuracy: 0.6048\n",
      "Epoch 2/50\n",
      "25/25 [==============================] - 1s 32ms/step - loss: 5.1333 - accuracy: 0.7042 - val_loss: 2.9895 - val_accuracy: 0.7605\n",
      "Epoch 3/50\n",
      "25/25 [==============================] - 1s 31ms/step - loss: 3.8902 - accuracy: 0.7426 - val_loss: 6.0114 - val_accuracy: 0.6946\n",
      "Epoch 4/50\n",
      "25/25 [==============================] - 1s 34ms/step - loss: 3.1420 - accuracy: 0.7593 - val_loss: 5.2347 - val_accuracy: 0.6287\n",
      "Epoch 5/50\n",
      "25/25 [==============================] - 1s 38ms/step - loss: 2.2141 - accuracy: 0.7759 - val_loss: 3.9483 - val_accuracy: 0.6587\n",
      "Epoch 6/50\n",
      "25/25 [==============================] - 1s 38ms/step - loss: 1.9592 - accuracy: 0.7785 - val_loss: 2.6381 - val_accuracy: 0.7365\n",
      "Epoch 7/50\n",
      "25/25 [==============================] - 1s 39ms/step - loss: 3.8898 - accuracy: 0.6991 - val_loss: 7.8067 - val_accuracy: 0.5449\n",
      "Epoch 8/50\n",
      "25/25 [==============================] - 1s 37ms/step - loss: 6.2592 - accuracy: 0.7196 - val_loss: 8.9910 - val_accuracy: 0.7066\n",
      "Epoch 9/50\n",
      "25/25 [==============================] - 1s 36ms/step - loss: 4.6853 - accuracy: 0.7554 - val_loss: 5.3180 - val_accuracy: 0.6587\n",
      "Epoch 10/50\n",
      "25/25 [==============================] - 1s 35ms/step - loss: 2.8272 - accuracy: 0.7990 - val_loss: 4.5450 - val_accuracy: 0.7066\n",
      "Epoch 11/50\n",
      "25/25 [==============================] - 1s 33ms/step - loss: 2.6750 - accuracy: 0.7939 - val_loss: 5.6471 - val_accuracy: 0.6707\n"
     ]
    }
   ],
   "source": [
    "# Train the model using the training dataset, with early stopping based on validation dataset\n",
    "history = simple_model.fit(\n",
    "    train_ds,  # Training dataset\n",
    "    epochs=50,  # Higher number of maximum epochs for thorough training\n",
    "    validation_data=validation_ds,  # Validation dataset for early stopping\n",
    "    callbacks=[early_stopping_callback]  # Include Early Stopping Callback\n",
    ")"
   ]
  },
  {
   "cell_type": "markdown",
   "metadata": {},
   "source": [
    "**2.1.5 - Evaluate the model:**"
   ]
  },
  {
   "cell_type": "code",
   "execution_count": 14,
   "metadata": {},
   "outputs": [
    {
     "name": "stdout",
     "output_type": "stream",
     "text": [
      "6/6 [==============================] - 0s 9ms/step - loss: 2.1201 - accuracy: 0.8107\n",
      "Test Loss: 2.12005615234375\n",
      "Test Accuracy: 0.8106508851051331\n"
     ]
    }
   ],
   "source": [
    "# Evaluate the model's performance on the test dataset and report the accuracy\n",
    "test_loss, test_accuracy = simple_model.evaluate(test_ds)\n",
    "print(f\"Test Loss: {test_loss}\")\n",
    "print(f\"Test Accuracy: {test_accuracy}\")"
   ]
  },
  {
   "cell_type": "markdown",
   "metadata": {},
   "source": [
    "**Test Results:**\n",
    "\n",
    "- **Test Loss:** The loss on the test dataset is  2.12005615234375. This value represents the model's performance in terms of how well it predicts the correct labels. A lower loss indicates better predictive accuracy.\n",
    "- **Test Accuracy:** The model achieved an accuracy of 81.07% on the test dataset. This metric shows that the model correctly classified approximately 85.21% of the test images, which is a strong performance for a simple model."
   ]
  },
  {
   "cell_type": "markdown",
   "metadata": {
    "id": "M7x5pFFXfnF6"
   },
   "source": [
    "### 2.2 A more complex classifier\n",
    "\n",
    "Try a more complex architecture that has 1 or more hidden layers with dropout. For this more complex architecture, use `keras-tuner` and run it with a reasonable choice of possible parameters. You may try among the following:\n",
    "\n",
    "- Number of hidden layers\n",
    "- Sizes of hidden layers\n",
    "- Dropout rate\n",
    "- Learning rate"
   ]
  },
  {
   "cell_type": "markdown",
   "metadata": {},
   "source": [
    "**2.2.1 - Import libraries and set reproducibility settings:**"
   ]
  },
  {
   "cell_type": "code",
   "execution_count": 15,
   "metadata": {},
   "outputs": [],
   "source": [
    "import tensorflow as tf\n",
    "from tensorflow.keras.models import Sequential\n",
    "from tensorflow.keras.layers import Flatten, Dense, Dropout\n",
    "from tensorflow.keras.optimizers import Adam\n",
    "from keras_tuner import BayesianOptimization\n",
    "import pandas as pd\n",
    "\n",
    "\n",
    "# Seed for reproducibility\n",
    "seed_value = 23\n",
    "tf.random.set_seed(seed_value)\n",
    "\n",
    "# Image dimensions and class names\n",
    "IMG_HEIGHT = 230\n",
    "IMG_WIDTH = 230\n",
    "IMG_CHANNELS = 3\n",
    "CLASS_NAMES = ['cloudy', 'sunrise', 'rain', 'shine']\n",
    "BATCH_SIZE = 32"
   ]
  },
  {
   "cell_type": "markdown",
   "metadata": {},
   "source": [
    "**2.2.2 - Define Functions for Data Preprocessing:**"
   ]
  },
  {
   "cell_type": "code",
   "execution_count": 16,
   "metadata": {},
   "outputs": [],
   "source": [
    "# Function to read and decode images from a given filename\n",
    "def read_and_decode(filename, reshape_dims):\n",
    "    # Read the image file\n",
    "    img = tf.io.read_file(filename)\n",
    "    # Decode the image file as a JPEG file, ensuring that the image has three color channels\n",
    "    img = tf.image.decode_jpeg(img, channels=IMG_CHANNELS)\n",
    "    # Convert the image data from integers to floats and normalize to the range [0, 1]\n",
    "    img = tf.image.convert_image_dtype(img, tf.float32)\n",
    "    # Resize the image to the specified dimensions\n",
    "    return tf.image.resize(img, reshape_dims)\n",
    "\n",
    "# Function to parse CSV lines and return image and label pairs\n",
    "def decode_csv(csv_row):\n",
    "    # Define the defaults for the CSV fields to be parsed\n",
    "    record_defaults = [\"path\", \"weather\"]\n",
    "    # Parse the CSV row into respective fields for filename and label string\n",
    "    filename, label_string = tf.io.decode_csv(csv_row, record_defaults)\n",
    "    # Process the image file using read_and_decode to get a normalized and resized image tensor\n",
    "    img = read_and_decode(filename, [IMG_HEIGHT, IMG_WIDTH])\n",
    "    # Find the index of the label string in the CLASS_NAMES list\n",
    "    label = tf.argmax(tf.math.equal(CLASS_NAMES, label_string))\n",
    "    # Return the image tensor and corresponding label index\n",
    "    return img, label\n",
    "\n",
    "# Create datasets from CSV files using the TextLineDataset class, which reads lines from text files\n",
    "# Map each line to the decode_csv function to get the processed image tensor and label\n",
    "train_ds = (tf.data.TextLineDataset(\"training.csv\")\n",
    "                 .map(decode_csv)\n",
    "                 .batch(32))\n",
    "\n",
    "# Create the validation dataset\n",
    "train_ds = (tf.data.TextLineDataset(\"validation.csv\")\n",
    "                .map(decode_csv)\n",
    "                .batch(32))\n",
    "\n",
    "# Create the test dataset\n",
    "train_ds = (tf.data.TextLineDataset(\"test.csv\")\n",
    "                .map(decode_csv)\n",
    "                .batch(32))"
   ]
  },
  {
   "cell_type": "markdown",
   "metadata": {},
   "source": [
    "**2.2.3 Hyperparameter tuning and Model training:**\n",
    "- We employ Bayesian Optimization to tune the hyperparameters of our complex classifier. The hyperparameters include the number of hidden layers, the size of each hidden layer, the dropout rate, and the learning rate."
   ]
  },
  {
   "cell_type": "markdown",
   "metadata": {},
   "source": [
    "**Build and compile the model with hyperparameters:**"
   ]
  },
  {
   "cell_type": "code",
   "execution_count": 17,
   "metadata": {},
   "outputs": [],
   "source": [
    "# Model building function with hyperparameter tuning using Keras Tuner\n",
    "def build_model(hp):\n",
    "    model = tf.keras.Sequential()\n",
    "    # Flatten layer converts the 2D image data into a 1D array for the dense layers\n",
    "    model.add(Flatten(input_shape=(IMG_HEIGHT, IMG_WIDTH, IMG_CHANNELS)))\n",
    "    \n",
    "    # Define hidden layers with varying numbers of neurons (units) and dropout rates\n",
    "    # Hyperparameters are used here to let Keras Tuner optimize these values.\n",
    "    for i in range(hp.Int('num_layers', 1, 3)):\n",
    "        # Add a fully connected (dense) layer with a variable number of neurons.\n",
    "        # 'units' for each layer will be optimized by Keras Tuner in the range 32-512.\n",
    "        # We start with at least 1 and up to 3 dense layers to give the model capacity to learn complex patterns.\n",
    "        model.add(Dense(units=hp.Int(f'units_{i}', min_value=32, max_value=512, step=32), activation='relu'))\n",
    "        \n",
    "        # Add a dropout layer to prevent overfitting; rate is also a hyperparameter.\n",
    "        # Dropout rate will be optimized between 0 (no dropout) and 0.5 (drop 50% of the neurons' activations).\n",
    "        # This helps to avoid over-reliance on any one neuron and promotes redundancy within the network.\n",
    "        model.add(Dropout(rate=hp.Float(f'dropout_{i}', min_value=0.0, max_value=0.5, step=0.1)))\n",
    "    \n",
    "    # Output layer with a 'softmax' activation function for multi-class classification.\n",
    "    # The number of units equals the number of classes. 'Softmax' will provide a probability distribution over the classes.\n",
    "    model.add(Dense(len(CLASS_NAMES), activation='softmax'))\n",
    "    \n",
    "    # Compile the model with the Adam optimizer.\n",
    "    # Learning rate is a crucial hyperparameter affecting the step size at each iteration while moving toward a minimum of a loss function.\n",
    "    # 'lrate' will be optimized by Keras Tuner within the range from 0.0001 (1e-4) to 0.1 (1e-1), using log scaling to sample orders of magnitude uniformly.\n",
    "    # Sparse categorical crossentropy is used as the loss function because our labels are integers, and it's a multi-class classification problem.\n",
    "    # The 'accuracy' metric will be used to evaluate the performance of the model.\n",
    "    model.compile(optimizer=Adam(learning_rate=hp.Float('lrate', 1e-4, 1e-1, sampling='log')),\n",
    "                  loss='sparse_categorical_crossentropy',\n",
    "                  metrics=['accuracy'])\n",
    "    return model"
   ]
  },
  {
   "cell_type": "markdown",
   "metadata": {},
   "source": [
    "**Set up hyperparameter tuner and start the tuning process:**"
   ]
  },
  {
   "cell_type": "code",
   "execution_count": 19,
   "metadata": {},
   "outputs": [
    {
     "name": "stdout",
     "output_type": "stream",
     "text": [
      "Trial 10 Complete [00h 00m 06s]\n",
      "val_accuracy: 0.6107784509658813\n",
      "\n",
      "Best val_accuracy So Far: 0.7604790329933167\n",
      "Total elapsed time: 00h 01m 51s\n"
     ]
    }
   ],
   "source": [
    "# Hyperparameter tuner configuration\n",
    "tuner = BayesianOptimization(\n",
    "    build_model,  # Function to build and compile the model\n",
    "    objective='val_accuracy',  # Objective to optimize: validation accuracy\n",
    "    max_trials=10,  # Maximum number of trials (model configurations) to test\n",
    "    num_initial_points=3,  # Number of random configurations to start the Bayesian optimization process\n",
    "    directory='tuner_results',  # Directory to save tuning results\n",
    "    project_name='weather_classification',  # Name of the project for organizing the tuning results\n",
    "    overwrite=True  # Overwrite the existing tuning results if the directory already exists\n",
    ")\n",
    "\n",
    "# Tuning process\n",
    "tuner.search(\n",
    "    train_ds,  # Training dataset\n",
    "    validation_data=validation_ds,  # Validation dataset for evaluating model performance\n",
    "    epochs=5,  # Number of epochs to train each model configuration\n",
    "    callbacks=[tf.keras.callbacks.EarlyStopping(patience=3)]  # Early stopping callback to prevent overfitting\n",
    ")"
   ]
  },
  {
   "cell_type": "markdown",
   "metadata": {},
   "source": [
    "**Build, train, and evaluate the best model:**"
   ]
  },
  {
   "cell_type": "code",
   "execution_count": 21,
   "metadata": {},
   "outputs": [
    {
     "name": "stdout",
     "output_type": "stream",
     "text": [
      "Model: \"sequential_2\"\n",
      "_________________________________________________________________\n",
      " Layer (type)                Output Shape              Param #   \n",
      "=================================================================\n",
      " flatten_2 (Flatten)         (None, 158700)            0         \n",
      "                                                                 \n",
      " dense_4 (Dense)             (None, 32)                5078432   \n",
      "                                                                 \n",
      " dropout_2 (Dropout)         (None, 32)                0         \n",
      "                                                                 \n",
      " dense_5 (Dense)             (None, 4)                 132       \n",
      "                                                                 \n",
      "=================================================================\n",
      "Total params: 5078564 (19.37 MB)\n",
      "Trainable params: 5078564 (19.37 MB)\n",
      "Non-trainable params: 0 (0.00 Byte)\n",
      "_________________________________________________________________\n",
      "Epoch 1/50\n",
      "6/6 [==============================] - 1s 142ms/step - loss: 3.7759 - accuracy: 0.3846 - val_loss: 2.7179 - val_accuracy: 0.4072\n",
      "Epoch 2/50\n",
      "6/6 [==============================] - 1s 115ms/step - loss: 1.6417 - accuracy: 0.5089 - val_loss: 1.1154 - val_accuracy: 0.6228\n",
      "Epoch 3/50\n",
      "6/6 [==============================] - 1s 113ms/step - loss: 0.8591 - accuracy: 0.6627 - val_loss: 1.2707 - val_accuracy: 0.5389\n",
      "Epoch 4/50\n",
      "6/6 [==============================] - 1s 118ms/step - loss: 1.0025 - accuracy: 0.6627 - val_loss: 0.9191 - val_accuracy: 0.7186\n",
      "Epoch 5/50\n",
      "6/6 [==============================] - 1s 116ms/step - loss: 0.8674 - accuracy: 0.7278 - val_loss: 1.3640 - val_accuracy: 0.6647\n",
      "Epoch 6/50\n",
      "6/6 [==============================] - 1s 117ms/step - loss: 0.6775 - accuracy: 0.7574 - val_loss: 0.8289 - val_accuracy: 0.7365\n",
      "Epoch 7/50\n",
      "6/6 [==============================] - 1s 116ms/step - loss: 0.5153 - accuracy: 0.8284 - val_loss: 0.8090 - val_accuracy: 0.7725\n",
      "Epoch 8/50\n",
      "6/6 [==============================] - 1s 125ms/step - loss: 0.4633 - accuracy: 0.8343 - val_loss: 0.8560 - val_accuracy: 0.7365\n",
      "Epoch 9/50\n",
      "6/6 [==============================] - 1s 122ms/step - loss: 0.4608 - accuracy: 0.8284 - val_loss: 0.7132 - val_accuracy: 0.7964\n",
      "Epoch 10/50\n",
      "6/6 [==============================] - 1s 132ms/step - loss: 0.3492 - accuracy: 0.8994 - val_loss: 0.7123 - val_accuracy: 0.7545\n",
      "Epoch 11/50\n",
      "6/6 [==============================] - 1s 120ms/step - loss: 0.3684 - accuracy: 0.8639 - val_loss: 0.6917 - val_accuracy: 0.7725\n",
      "Epoch 12/50\n",
      "6/6 [==============================] - 1s 113ms/step - loss: 0.3148 - accuracy: 0.8817 - val_loss: 0.7306 - val_accuracy: 0.7545\n",
      "Epoch 13/50\n",
      "6/6 [==============================] - 1s 115ms/step - loss: 0.3245 - accuracy: 0.8521 - val_loss: 0.7094 - val_accuracy: 0.7605\n",
      "Epoch 14/50\n",
      "6/6 [==============================] - 1s 115ms/step - loss: 0.2835 - accuracy: 0.8935 - val_loss: 0.7028 - val_accuracy: 0.7545\n",
      "6/6 [==============================] - 0s 9ms/step - loss: 0.3088 - accuracy: 0.8935\n",
      "Complex Model Test Loss: 0.3088245689868927\n",
      "Complex Model Test Accuracy: 0.8934911489486694\n"
     ]
    }
   ],
   "source": [
    "# Best hyperparameters\n",
    "best_hps = tuner.get_best_hyperparameters(1)[0]\n",
    "\n",
    "# Build the best model\n",
    "complex_model = build_model(best_hps)\n",
    "complex_model.summary()\n",
    "\n",
    "# Train the model\n",
    "history_complex_model = complex_model.fit(\n",
    "    train_ds,\n",
    "    validation_data=validation_ds,\n",
    "    epochs=50,\n",
    "    callbacks=[tf.keras.callbacks.EarlyStopping(patience=3, restore_best_weights=True)]\n",
    ")\n",
    "\n",
    "# Evaluate on test dataset\n",
    "complex_test_loss, complex_test_accuracy = complex_model.evaluate(test_ds)\n",
    "print(f\"Complex Model Test Loss: {complex_test_loss}\")\n",
    "print(f\"Complex Model Test Accuracy: {complex_test_accuracy}\")"
   ]
  },
  {
   "cell_type": "markdown",
   "metadata": {},
   "source": [
    "**2.2.4 - Explain and justify my decision choices made in this task:**"
   ]
  },
  {
   "cell_type": "markdown",
   "metadata": {},
   "source": [
    "In this task, I construct a more complex neural network model for image classification, which is equipped with hidden layers and dropout regularization. The model is built using TensorFlow and Keras, and its architecture is fine-tuned using Keras Tuner's Bayesian Optimization.\n",
    "\n",
    "#### Model Parameters:\n",
    "\n",
    "1. **Number of Hidden Layers (`num_layers`):** The model can have between 1 to 3 hidden layers. This range allows us to explore both shallow and deeper network architectures to find the optimal depth for our dataset.\n",
    "\n",
    "2. **Units in Hidden Layers (`units_i`):** For each hidden layer, the number of neurons (units) can vary from 32 to 512 in steps of 32. This provides flexibility in adjusting the model's capacity and complexity.\n",
    "\n",
    "3. **Dropout Rate (`dropout_i`):** Each hidden layer is followed by a dropout layer with a rate ranging from 0.0 to 0.5 in steps of 0.1. Dropout helps in regularizing the model and preventing overfitting by randomly dropping neurons during training.\n",
    "\n",
    "4. **Learning Rate (`lrate`):** The learning rate for the Adam optimizer is tuned between 1e-4 to 1e-1 on a logarithmic scale. An appropriate learning rate ensures efficient convergence during training.\n",
    "\n",
    "#### Model Architecture:\n",
    "\n",
    "- The model begins with a **Flatten layer** to convert the 2D image tensors into 1D vectors.\n",
    "- This is followed by the specified number of **Dense (hidden) layers** with ReLU activation. Each dense layer is accompanied by a **Dropout layer** to regularize the network.\n",
    "- The final layer is a **Dense output layer** with softmax activation to output class probabilities. The number of units in this layer matches the number of classes (cloudy, sunrise, rain, shine).\n",
    "\n",
    "#### Compilation and Training:\n",
    "\n",
    "- The model is compiled with **sparse categorical crossentropy** as the loss function, suitable for multi-class classification tasks.\n",
    "- The **Adam optimizer** is used for training, with its learning rate determined through hyperparameter tuning.\n",
    "\n",
    "By tuning these parameters, we aim to find a well-performing model architecture that can accurately classify images into different weather conditions while avoiding overfitting.\n"
   ]
  },
  {
   "cell_type": "markdown",
   "metadata": {},
   "source": [
    "### 2.3 Error Analysis\n",
    "\n",
    "After developing both a simple classifier and a more complex classifier with hyperparameter tuning, it's important to conduct an error analysis to compare their performances. This analysis focuses on two main aspects: accuracy on the test data and the degree of overfitting.\n",
    "\n",
    "#### Accuracy on the Test Data:\n",
    "- **Simple Classifier:** Achieved a test accuracy of 81.07%.\n",
    "- **Complex Classifier:** Achieved a test accuracy of 89.35%.\n",
    "\n",
    "**Conclusion:** The complex classifier had better accuracy on the test data compared to the simple classifier. The addition of hidden layers and dropout regularization in the complex classifier likely contributed to its improved ability to generalize and thus perform better on unseen data.\n",
    "\n",
    "#### Degree of Overfitting:\n",
    "- **Simple Classifier:** Exhibited some overfitting, as indicated by the difference between training accuracy (around 76-80%) and validation accuracy (around 60-70%). The early stopping callback halted training at epoch 11, suggesting that the model began to overfit beyond this point.\n",
    "- **Complex Classifier:** Demonstrated better resistance to overfitting, with training accuracy (around 82-84%) being closer to validation accuracy (around 70-78%). The early stopping callback was triggered at epoch 15, indicating that the model maintained generalization for a longer duration during training.\n",
    "\n",
    "**Conclusion:** The complex classifier showed a lower degree of overfitting compared to the simple classifier. This is likely due to the dropout layers in the complex classifier, which help prevent the model from relying too heavily on specific weights, thus improving its generalization ability.\n",
    "\n",
    "#### Summary:\n",
    "In summary, the complex classifier outperformed the simple classifier in terms of both test accuracy and resistance to overfitting. The use of hidden layers and dropout in the complex classifier's architecture played a crucial role in enhancing its performance and generalization capabilities. This analysis highlights the importance of model architecture and regularization techniques in developing effective machine learning models for image classification tasks."
   ]
  },
  {
   "cell_type": "code",
   "execution_count": 22,
   "metadata": {},
   "outputs": [
    {
     "data": {
      "image/png": "[encoded data removed]",
      "text/plain": [
       "<Figure size 1400x600 with 2 Axes>"
      ]
     },
     "metadata": {},
     "output_type": "display_data"
    }
   ],
   "source": [
    "import matplotlib.pyplot as plt\n",
    "\n",
    "# Plot accuracy comparison\n",
    "plt.figure(figsize=(14, 6))\n",
    "plt.subplot(1, 2, 1)\n",
    "plt.plot(history.history['accuracy'], label='Simple Model Training Accuracy')\n",
    "plt.plot(history.history['val_accuracy'], label='Simple Model Validation Accuracy')\n",
    "plt.plot(history_complex_model.history['accuracy'], label='Complex Model Training Accuracy')\n",
    "plt.plot(history_complex_model.history['val_accuracy'], label='Complex Model Validation Accuracy')\n",
    "plt.title('Model Accuracy Comparison')\n",
    "plt.xlabel('Epochs')\n",
    "plt.ylabel('Accuracy')\n",
    "plt.legend()\n",
    "\n",
    "# Plot loss comparison\n",
    "plt.subplot(1, 2, 2)\n",
    "plt.plot(history.history['loss'], label='Simple Model Training Loss')\n",
    "plt.plot(history.history['val_loss'], label='Simple Model Validation Loss')\n",
    "plt.plot(history_complex_model.history['loss'], label='Complex Model Training Loss')\n",
    "plt.plot(history_complex_model.history['val_loss'], label='Complex Model Validation Loss')\n",
    "plt.title('Model Loss Comparison')\n",
    "plt.xlabel('Epochs')\n",
    "plt.ylabel('Loss')\n",
    "plt.legend()\n",
    "\n",
    "plt.show()"
   ]
  },
  {
   "cell_type": "markdown",
   "metadata": {},
   "source": [
    "#### **Comments on charts:**\n",
    "\n",
    "**1. Inconsistent Trends:**\n",
    "The accuracy of the simple model on the validation set is quite volatile, especially in the early epochs. This could suggest that the model might be too simple to capture the underlying patterns in the dataset consistently. Alternatively, the learning rate might be too high, causing the model to overshoot optimal weights during training.\n",
    "\n",
    "**2. Overfitting in Complex Model:**\n",
    "The complex model seems to be overfitting, indicated by higher accuracy on the training set compared to the validation set. This gap suggests that while the model has learned to represent the training data well, it may not generalize as effectively to unseen data. Regularization techniques, such as increasing dropout rates or L1/L2 regularization, may be necessary to mitigate this.\n",
    "\n",
    "**3. Loss Fluctuations:**\n",
    "There's a noticeable spike in the validation loss for the complex model at around epoch 6, which could be indicative of an issue with the model's learning process. Such a spike could be due to a non-representative validation batch or too large a learning rate that causes the model's weights to deviate from the optimal path.\n",
    "\n",
    "**4. Data Preprocessing:**\n",
    "The graphs might also reflect underlying issues with data preprocessing. If data normalization or augmentation was not performed or was done inconsistently, this could lead to less reliable training and validation metrics.\n",
    "\n",
    "**5. Early Stopping Patience:**\n",
    "The patience parameter for early stopping might be too low. If the models tend to improve after a few fluctuations, a higher patience value might allow them to continue to learn and potentially improve validation accuracy before stopping.\n",
    "\n",
    "**6. Evaluation Metrics:**\n",
    "While accuracy is a useful metric, relying solely on it can be misleading, especially with imbalanced datasets. Including additional metrics such as precision, recall, F1-score, or confusion matrices could provide a more holistic view of the model's performance.\n",
    "\n",
    "**7. Hyperparameter Optimization:**\n",
    "The performance of the complex model suggests that there's room for improvement in hyperparameter tuning. It's crucial to explore a broader range of values for the learning rate, the number of neurons in hidden layers, and dropout rates. Bayesian Optimization or other hyperparameter search techniques should be leveraged to find a more optimal set of parameters.\n",
    "---"
   ]
  },
  {
   "cell_type": "markdown",
   "metadata": {
    "id": "qJgTJjhUfnF9"
   },
   "source": [
    "## Task 3 - A more complex classifier\n",
    "\n",
    "### 3.1 Using ConvNets \n",
    "\n",
    "In this model, I construct a simple convolutional neural network (CNN) for image classification. The model architecture and choice of parameters are based on common practices in deep learning for image processing tasks.\n",
    "\n",
    "#### Model Architecture\n",
    "\n",
    "The CNN model consists of the following layers:\n",
    "\n",
    "1. **Convolutional Layer 1:** This layer uses 32 filters with a kernel size of 3x3 and ReLU activation. The choice of 32 filters is a starting point to extract various features from the input images, and the 3x3 kernel size is a standard choice that balances the field of view and computational efficiency. ReLU activation is used to introduce non-linearity, enabling the model to learn more complex patterns.\n",
    "\n",
    "2. **Max Pooling Layer 1:** A max pooling layer with a 2x2 pool size follows the first convolutional layer. Max pooling is employed to reduce the spatial dimensions of the output, which helps in decreasing the computational load and mitigating the risk of overfitting.\n",
    "\n",
    "3. **Convolutional Layer 2:** The second convolutional layer has 64 filters, a 3x3 kernel size, and ReLU activation. Increasing the number of filters to 64 allows the model to learn more complex features and representations of the input images.\n",
    "\n",
    "4. **Max Pooling Layer 2:** Similar to the first max pooling layer, this layer uses a 2x2 pool size to further reduce the dimensions of the feature maps.\n",
    "\n",
    "5. **Flatten Layer:** The output from the last max pooling layer is flattened into a 1D vector, which is necessary for input into the dense layer that follows.\n",
    "\n",
    "6. **Dense (Output) Layer:** The final layer is a dense layer with softmax activation. The number of units in this layer corresponds to the number of classes in the classification task. Softmax activation is used to produce a probability distribution over the classes, facilitating multi-class classification.\n",
    "\n",
    "#### Hyperparameters and Optimization\n",
    "\n",
    "- **Learning Rate:** A learning rate of 0.0001 is used, which is a commonly chosen default value. The learning rate is a crucial hyperparameter that controls the step size at each iteration while moving toward a minimum of the loss function.\n",
    "\n",
    "- **Optimizer:** The Adam optimizer is employed for its adaptive learning rate properties, which can lead to faster convergence in training.\n",
    "\n",
    "- **Loss Function:** Sparse categorical crossentropy is selected as the loss function, which is suitable for multi-class classification tasks where the labels are integers.\n",
    "\n",
    "#### Training and Evaluation\n",
    "\n",
    "The model is trained using the `fit` method with early stopping based on the validation loss. Early stopping is a regularization technique that halts training when the model's performance on the validation set ceases to improve, preventing overfitting.\n",
    "\n",
    "After training, the model is evaluated on a separate test dataset to assess its accuracy and generalization ability.\n",
    "\n",
    "In summary, the choices of parameters and model architecture are guided by common practices and considerations for efficient and effective learning in image classification tasks.\n"
   ]
  },
  {
   "cell_type": "code",
   "execution_count": 23,
   "metadata": {},
   "outputs": [
    {
     "name": "stdout",
     "output_type": "stream",
     "text": [
      "WARNING:tensorflow:From C:\\Users\\46248722\\AppData\\Roaming\\Python\\Python39\\site-packages\\keras\\src\\layers\\pooling\\max_pooling2d.py:161: The name tf.nn.max_pool is deprecated. Please use tf.nn.max_pool2d instead.\n",
      "\n",
      "Model: \"sequential_3\"\n",
      "_________________________________________________________________\n",
      " Layer (type)                Output Shape              Param #   \n",
      "=================================================================\n",
      " conv2d (Conv2D)             (None, 228, 228, 32)      896       \n",
      "                                                                 \n",
      " max_pooling2d (MaxPooling2  (None, 114, 114, 32)      0         \n",
      " D)                                                              \n",
      "                                                                 \n",
      " conv2d_1 (Conv2D)           (None, 112, 112, 64)      18496     \n",
      "                                                                 \n",
      " max_pooling2d_1 (MaxPoolin  (None, 56, 56, 64)        0         \n",
      " g2D)                                                            \n",
      "                                                                 \n",
      " flatten_3 (Flatten)         (None, 200704)            0         \n",
      "                                                                 \n",
      " dense_6 (Dense)             (None, 4)                 802820    \n",
      "                                                                 \n",
      "=================================================================\n",
      "Total params: 822212 (3.14 MB)\n",
      "Trainable params: 822212 (3.14 MB)\n",
      "Non-trainable params: 0 (0.00 Byte)\n",
      "_________________________________________________________________\n",
      "Epoch 1/50\n",
      "6/6 [==============================] - 4s 508ms/step - loss: 1.3606 - accuracy: 0.4024 - val_loss: 1.0173 - val_accuracy: 0.6407\n",
      "Epoch 2/50\n",
      "6/6 [==============================] - 3s 510ms/step - loss: 0.9185 - accuracy: 0.6923 - val_loss: 0.7904 - val_accuracy: 0.7006\n",
      "Epoch 3/50\n",
      "6/6 [==============================] - 3s 440ms/step - loss: 0.7061 - accuracy: 0.7692 - val_loss: 0.6844 - val_accuracy: 0.7844\n",
      "Epoch 4/50\n",
      "6/6 [==============================] - 3s 433ms/step - loss: 0.5364 - accuracy: 0.8698 - val_loss: 0.6304 - val_accuracy: 0.8024\n",
      "Epoch 5/50\n",
      "6/6 [==============================] - 3s 441ms/step - loss: 0.4595 - accuracy: 0.8462 - val_loss: 0.5891 - val_accuracy: 0.8024\n",
      "Epoch 6/50\n",
      "6/6 [==============================] - 3s 474ms/step - loss: 0.3775 - accuracy: 0.8817 - val_loss: 0.5787 - val_accuracy: 0.8084\n",
      "Epoch 7/50\n",
      "6/6 [==============================] - 3s 500ms/step - loss: 0.3213 - accuracy: 0.8935 - val_loss: 0.5517 - val_accuracy: 0.8144\n",
      "Epoch 8/50\n",
      "6/6 [==============================] - 3s 473ms/step - loss: 0.2758 - accuracy: 0.8994 - val_loss: 0.5546 - val_accuracy: 0.8024\n",
      "Epoch 9/50\n",
      "6/6 [==============================] - 3s 437ms/step - loss: 0.2381 - accuracy: 0.9231 - val_loss: 0.5423 - val_accuracy: 0.8084\n",
      "Epoch 10/50\n",
      "6/6 [==============================] - 3s 437ms/step - loss: 0.2054 - accuracy: 0.9349 - val_loss: 0.5383 - val_accuracy: 0.8084\n",
      "Epoch 11/50\n",
      "6/6 [==============================] - 3s 459ms/step - loss: 0.1823 - accuracy: 0.9408 - val_loss: 0.5365 - val_accuracy: 0.8084\n",
      "Epoch 12/50\n",
      "6/6 [==============================] - 3s 493ms/step - loss: 0.1589 - accuracy: 0.9467 - val_loss: 0.5390 - val_accuracy: 0.8144\n",
      "Epoch 13/50\n",
      "6/6 [==============================] - 3s 494ms/step - loss: 0.1403 - accuracy: 0.9586 - val_loss: 0.5353 - val_accuracy: 0.8144\n",
      "Epoch 14/50\n",
      "6/6 [==============================] - 3s 473ms/step - loss: 0.1234 - accuracy: 0.9763 - val_loss: 0.5385 - val_accuracy: 0.8144\n",
      "Epoch 15/50\n",
      "6/6 [==============================] - 3s 431ms/step - loss: 0.1089 - accuracy: 0.9941 - val_loss: 0.5391 - val_accuracy: 0.8204\n",
      "Epoch 16/50\n",
      "6/6 [==============================] - 3s 442ms/step - loss: 0.0956 - accuracy: 0.9941 - val_loss: 0.5404 - val_accuracy: 0.8323\n",
      "6/6 [==============================] - 1s 91ms/step - loss: 0.0841 - accuracy: 0.9941\n",
      "CNN Model Test Loss: 0.08412449061870575\n",
      "CNN Model Test Accuracy: 0.9940828680992126\n"
     ]
    }
   ],
   "source": [
    "import os\n",
    "import random\n",
    "import numpy as np\n",
    "import tensorflow as tf\n",
    "from tensorflow.keras import layers, models\n",
    "\n",
    "# Set seed for reproducibility\n",
    "seed_value = 23\n",
    "tf.random.set_seed(seed_value)\n",
    "\n",
    "# Define image dimensions and number of classes\n",
    "IMAGE_HEIGHT = 230\n",
    "IMAGE_WIDTH = 230\n",
    "NUM_CLASSES = 4  # cloudy, rain, shine, sunrise\n",
    "\n",
    "# Initialize the CNN model\n",
    "cnn_model = models.Sequential()\n",
    "\n",
    "# First convolutional layer with 32 filters, 3x3 kernel size, and ReLU activation\n",
    "# 32 filters are used to extract different features from the input images\n",
    "# 3x3 kernel size is a common choice that balances the field of view and computational efficiency\n",
    "# ReLU activation is used to introduce non-linearity in the model\n",
    "cnn_model.add(layers.Conv2D(32, (3, 3), activation='relu', input_shape=(IMAGE_HEIGHT, IMAGE_WIDTH, 3)))\n",
    "\n",
    "# First max pooling layer with 2x2 pool size\n",
    "# Max pooling is used to reduce the spatial dimensions of the output from the previous layer\n",
    "# 2x2 pool size is commonly used to halve the dimensions\n",
    "cnn_model.add(layers.MaxPooling2D((2, 2)))\n",
    "\n",
    "# Second convolutional layer with 64 filters, 3x3 kernel size, and ReLU activation\n",
    "# Increasing the number of filters to 64 allows the model to learn more complex features\n",
    "cnn_model.add(layers.Conv2D(64, (3, 3), activation='relu'))\n",
    "\n",
    "# Second max pooling layer with 2x2 pool size\n",
    "cnn_model.add(layers.MaxPooling2D((2, 2)))\n",
    "\n",
    "# Flatten the output of the last pooling layer\n",
    "# Flattening is required to convert the 2D output into a 1D vector for the dense layer\n",
    "cnn_model.add(layers.Flatten())\n",
    "\n",
    "# Add the output dense layer with softmax activation for classification\n",
    "# Softmax activation is used to calculate probabilities for each class\n",
    "cnn_model.add(layers.Dense(NUM_CLASSES, activation='softmax'))\n",
    "\n",
    "from tensorflow.keras.optimizers import Adam\n",
    "\n",
    "# Define a learning rate\n",
    "learning_rate = 0.0001   # This is a commonly used default value, feel free to adjust\n",
    "\n",
    "# Initialize the Adam optimizer with the specified learning rate\n",
    "# Adam optimizer is used for its adaptive learning rate properties\n",
    "optimizer = Adam(learning_rate=learning_rate)\n",
    "\n",
    "# Compile the model with the custom optimizer, sparse categorical crossentropy for loss, and accuracy as a metric\n",
    "# Sparse categorical crossentropy is used as the loss function for multi-class classification\n",
    "cnn_model.compile(optimizer=optimizer,\n",
    "                  loss='sparse_categorical_crossentropy',\n",
    "                  metrics=['accuracy'])\n",
    "\n",
    "# Print the model summary to check the architecture\n",
    "cnn_model.summary()\n",
    "\n",
    "# Fit the CNN model to the training data\n",
    "# EarlyStopping callback is used to stop training when the validation loss stops improving\n",
    "history_cnn_model = cnn_model.fit(train_ds, validation_data=validation_ds, epochs=50,\n",
    "                                  callbacks=[tf.keras.callbacks.EarlyStopping(patience=3)])\n",
    "\n",
    "# Evaluate the CNN model on the test data\n",
    "cnn_test_loss, cnn_test_accuracy = cnn_model.evaluate(test_ds)\n",
    "print(f\"CNN Model Test Loss: {cnn_test_loss}\")\n",
    "print(f\"CNN Model Test Accuracy: {cnn_test_accuracy}\")"
   ]
  },
  {
   "cell_type": "markdown",
   "metadata": {
    "id": "152E3mgdfnF_"
   },
   "source": [
    "### 3.2 Using pre-trained models\n",
    "\n",
    "- Requirement: Use MobileNet, pre-trained on imagenet as discussed in the lectures. Add the correct classification layer, and train it with your data. Make sure that you freeze MobileNet's weights during training. Also, make sure you use a reasonable schedule for the learning rate.\n",
    "\n",
    "In this task, I utilize a pre-trained MobileNetV2 model from TensorFlow Hub for image classification. The pre-trained model is fine-tuned to classify images into four categories: cloudy, rain, shine, and sunrise.\n",
    "\n",
    "#### Model Architecture\n",
    "\n",
    "The pre-trained MobileNetV2 model is used as a feature extractor, where the final classification layer is replaced with a new dense layer to match the number of classes in our task:\n",
    "\n",
    "- **Pre-trained MobileNetV2**: The MobileNetV2 model is loaded without the top classification layer. The weights are frozen to prevent them from being updated during training, ensuring that the learned features from ImageNet are preserved.\n",
    "\n",
    "- **Dense Layer**: A new dense layer with softmax activation is added to classify the extracted features into our four target classes. Softmax activation is used to produce a probability distribution over the classes.\n",
    "\n",
    "#### Hyperparameters and Optimization\n",
    "\n",
    "- **Learning Rate**: The Adam optimizer with a default learning rate of 0.001 is used. The learning rate is a key hyperparameter that controls the step size during optimization.\n",
    "\n",
    "- **Loss Function**: Sparse categorical crossentropy is selected as the loss function, which is suitable for multi-class classification tasks with integer labels.\n",
    "\n",
    "#### Training and Evaluation\n",
    "\n",
    "The model is trained using the resized training dataset with early stopping based on the validation loss. Early stopping is employed to halt training when there is no improvement in the validation loss, preventing overfitting.\n",
    "\n",
    "After training, the model's performance is evaluated on the resized test dataset to assess its accuracy and generalization ability.\n",
    "\n",
    "In summary, leveraging a pre-trained model allows for efficient transfer learning, where the model benefits from the knowledge gained from a large dataset (ImageNet) and is fine-tuned to our specific image classification task."
   ]
  },
  {
   "cell_type": "code",
   "execution_count": 38,
   "metadata": {
    "id": "FOeToHlyfnF_"
   },
   "outputs": [
    {
     "name": "stdout",
     "output_type": "stream",
     "text": [
      "Model: \"weather_classification\"\n",
      "_________________________________________________________________\n",
      " Layer (type)                Output Shape              Param #   \n",
      "=================================================================\n",
      " keras_layer_1 (KerasLayer)  (None, 1280)              2257984   \n",
      "                                                                 \n",
      " dense_8 (Dense)             (None, 4)                 5124      \n",
      "                                                                 \n",
      "=================================================================\n",
      "Total params: 2263108 (8.63 MB)\n",
      "Trainable params: 5124 (20.02 KB)\n",
      "Non-trainable params: 2257984 (8.61 MB)\n",
      "_________________________________________________________________\n",
      "Epoch 1/15\n",
      "6/6 [==============================] - 7s 835ms/step - loss: 1.3531 - accuracy: 0.4201 - val_loss: 0.9865 - val_accuracy: 0.6826\n",
      "Epoch 2/15\n",
      "6/6 [==============================] - 4s 700ms/step - loss: 0.7959 - accuracy: 0.7633 - val_loss: 0.6909 - val_accuracy: 0.7844\n",
      "Epoch 3/15\n",
      "6/6 [==============================] - 4s 729ms/step - loss: 0.5063 - accuracy: 0.8757 - val_loss: 0.5154 - val_accuracy: 0.8563\n",
      "Epoch 4/15\n",
      "6/6 [==============================] - 4s 731ms/step - loss: 0.3422 - accuracy: 0.9704 - val_loss: 0.4177 - val_accuracy: 0.8982\n",
      "Epoch 5/15\n",
      "6/6 [==============================] - 4s 714ms/step - loss: 0.2487 - accuracy: 0.9882 - val_loss: 0.3584 - val_accuracy: 0.8982\n",
      "Epoch 6/15\n",
      "6/6 [==============================] - 4s 712ms/step - loss: 0.1895 - accuracy: 0.9941 - val_loss: 0.3215 - val_accuracy: 0.8982\n",
      "Epoch 7/15\n",
      "6/6 [==============================] - 4s 735ms/step - loss: 0.1513 - accuracy: 0.9941 - val_loss: 0.2960 - val_accuracy: 0.9102\n",
      "Epoch 8/15\n",
      "6/6 [==============================] - 4s 723ms/step - loss: 0.1253 - accuracy: 0.9941 - val_loss: 0.2781 - val_accuracy: 0.9102\n",
      "Epoch 9/15\n",
      "6/6 [==============================] - 4s 731ms/step - loss: 0.1070 - accuracy: 1.0000 - val_loss: 0.2655 - val_accuracy: 0.9222\n",
      "Epoch 10/15\n",
      "6/6 [==============================] - 4s 740ms/step - loss: 0.0932 - accuracy: 1.0000 - val_loss: 0.2560 - val_accuracy: 0.9162\n",
      "Epoch 11/15\n",
      "6/6 [==============================] - 5s 776ms/step - loss: 0.0824 - accuracy: 1.0000 - val_loss: 0.2485 - val_accuracy: 0.9222\n",
      "Epoch 12/15\n",
      "6/6 [==============================] - 4s 721ms/step - loss: 0.0738 - accuracy: 1.0000 - val_loss: 0.2424 - val_accuracy: 0.9281\n",
      "Epoch 13/15\n",
      "6/6 [==============================] - 4s 697ms/step - loss: 0.0668 - accuracy: 1.0000 - val_loss: 0.2373 - val_accuracy: 0.9281\n",
      "Epoch 14/15\n",
      "6/6 [==============================] - 4s 738ms/step - loss: 0.0609 - accuracy: 1.0000 - val_loss: 0.2330 - val_accuracy: 0.9341\n",
      "Epoch 15/15\n",
      "6/6 [==============================] - 4s 746ms/step - loss: 0.0559 - accuracy: 1.0000 - val_loss: 0.2294 - val_accuracy: 0.9341\n",
      "6/6 [==============================] - 2s 310ms/step - loss: 0.0527 - accuracy: 1.0000\n",
      "Pretrained Model Test Loss: 0.052746664732694626\n",
      "Pretrained Model Test Accuracy: 1.0\n"
     ]
    }
   ],
   "source": [
    "import tensorflow as tf\n",
    "import tensorflow_hub as hub\n",
    "\n",
    "# Set seed for reproducibility\n",
    "seed_value = 23\n",
    "tf.random.set_seed(seed_value)\n",
    "\n",
    "# Define image dimensions and number of classes\n",
    "IMG_HEIGHT = 224\n",
    "IMG_WIDTH = 224\n",
    "NUM_CLASSES = 4  # cloudy, rain, shine, sunrise\n",
    "\n",
    "# Load compressed models from tensorflow_hub\n",
    "import os\n",
    "os.environ['TFHUB_MODEL_LOAD_FORMAT'] = 'COMPRESSED'\n",
    "\n",
    "# Initialize the pretrained model using MobileNetV2 feature vector\n",
    "pretrained_model = tf.keras.Sequential([\n",
    "    hub.KerasLayer(\"https://tfhub.dev/google/tf2-preview/mobilenet_v2/feature_vector/4\",\n",
    "                   input_shape=(IMG_HEIGHT, IMG_WIDTH, 3),\n",
    "                   trainable=False),  # Freeze the weights\n",
    "    tf.keras.layers.Dense(NUM_CLASSES, activation='softmax')\n",
    "], name='weather_classification')\n",
    "\n",
    "# Compile the model with Adam optimizer and sparse categorical crossentropy loss\n",
    "pretrained_model.compile(optimizer='adam',\n",
    "                         loss='sparse_categorical_crossentropy',\n",
    "                         metrics=['accuracy'])\n",
    "\n",
    "# Print the model summary\n",
    "pretrained_model.summary()\n",
    "\n",
    "# Define a function to resize images\n",
    "def resize_images(image, label):\n",
    "    return tf.image.resize(image, [IMG_HEIGHT, IMG_WIDTH]), label\n",
    "\n",
    "# Apply the resize operation to the datasets\n",
    "resized_train_ds = train_ds.map(resize_images)\n",
    "resized_validation_ds = validation_ds.map(resize_images)\n",
    "resized_test_ds = test_ds.map(resize_images)\n",
    "\n",
    "# Fit the pretrained model to the resized training dataset\n",
    "pretrained_history = pretrained_model.fit(resized_train_ds,\n",
    "                                          validation_data=resized_validation_ds,\n",
    "                                          epochs=15,#observations many running show that after 10 epochs, it show 100% accuracy so reducing from 50 to 15 to reduce running time\n",
    "                                          callbacks=[tf.keras.callbacks.EarlyStopping(patience=3)])\n",
    "\n",
    "# Evaluate the pretrained model on the resized test dataset\n",
    "pretrained_test_loss, pretrained_test_accuracy = pretrained_model.evaluate(resized_test_ds)\n",
    "print(f\"Pretrained Model Test Loss: {pretrained_test_loss}\")\n",
    "print(f\"Pretrained Model Test Accuracy: {pretrained_test_accuracy}\")"
   ]
  },
  {
   "cell_type": "markdown",
   "metadata": {
    "id": "sb0NTIk1fnGA"
   },
   "source": [
    "### 3.3 Comparative evaluation "
   ]
  },
  {
   "cell_type": "markdown",
   "metadata": {},
   "source": [
    "**3.3.1 - What system (including the systems you developed in Task 2) perform best on the test set?**"
   ]
  },
  {
   "cell_type": "code",
   "execution_count": 37,
   "metadata": {},
   "outputs": [
    {
     "name": "stdout",
     "output_type": "stream",
     "text": [
      "+--------------------------+---------------+\n",
      "|          Model           | Test Accuracy |\n",
      "+--------------------------+---------------+\n",
      "|    Simple Classifier     |    0.8107     |\n",
      "| Complex Classifier (2.2) |    0.8935     |\n",
      "|      ConvNet (3.1)       |    0.9941     |\n",
      "| Pre-trained Model (3.2)  |      1.0      |\n",
      "+--------------------------+---------------+\n"
     ]
    }
   ],
   "source": [
    "from tabulate import tabulate\n",
    "\n",
    "# Define the DataFrame\n",
    "results_df = pd.DataFrame({\n",
    "    \"Model\": [\n",
    "        \"Simple Classifier\",\n",
    "        \"Complex Classifier (2.2)\",\n",
    "        \"ConvNet (3.1)\",\n",
    "        \"Pre-trained Model (3.2)\"\n",
    "    ],\n",
    "    \"Test Accuracy\": [\n",
    "        0.8107,  # Simple Classifier accuracy\n",
    "        0.8935,  # Complex Classifier (2.2) accuracy\n",
    "        0.9941,  # ConvNet (3.1) accuracy\n",
    "        1.0      # Pre-trained Model (3.2) accuracy\n",
    "    ]\n",
    "})\n",
    "\n",
    "# Print the table using tabulate\n",
    "print(tabulate(results_df, headers='keys', tablefmt='pretty', showindex=False))"
   ]
  },
  {
   "cell_type": "markdown",
   "metadata": {
    "id": "7z1D7X0vfnGB"
   },
   "source": [
    "#### **Comments:**\n",
    "- **Pre-trained Model (3.2) achieved the highest test accuracy of 1.0**, making it the best-performing system among the ones developed in Task 2 and 3. This outstanding performance could be attributed to the transfer learning approach, leveraging the knowledge from a model pre-trained on a large and diverse dataset like ImageNet.\n",
    "- ConvNet (3.1) also performed exceptionally well with a test accuracy of 0.9941, demonstrating the effectiveness of convolutional neural networks in image classification tasks.\n",
    "- Complex Classifier (2.2), which utilized hyperparameter tuning, showed good accuracy (0.8935) but was not able to match the performance of the ConvNet and Pre-trained Model. This indicates that while hyperparameter tuning can enhance model performance, the architecture and learning approach play crucial roles in achieving high accuracy.\n",
    "- Simple Classifier had the lowest accuracy of 0.8107. While this is still a respectable score, it underscores the limitations of simpler models in capturing the complexities of the dataset compared to more sophisticated approaches.\n",
    "\n",
    "In conclusion, the Pre-trained Model (3.2) stands out as the best system for this task, demonstrating the power of leveraging pre-trained models for achieving high accuracy in image classification tasks."
   ]
  },
  {
   "cell_type": "markdown",
   "metadata": {},
   "source": [
    "**3.3.2 - Report the accuracy of best system on each of the different weather categories. What type of weather was most difficult to detect?**"
   ]
  },
  {
   "cell_type": "code",
   "execution_count": 40,
   "metadata": {},
   "outputs": [
    {
     "name": "stdout",
     "output_type": "stream",
     "text": [
      "6/6 [==============================] - 3s 377ms/step\n",
      "              precision    recall  f1-score   support\n",
      "\n",
      "      cloudy       1.00      1.00      1.00        51\n",
      "        rain       1.00      1.00      1.00        49\n",
      "       shine       1.00      1.00      1.00        34\n",
      "     sunrise       1.00      1.00      1.00        35\n",
      "\n",
      "    accuracy                           1.00       169\n",
      "   macro avg       1.00      1.00      1.00       169\n",
      "weighted avg       1.00      1.00      1.00       169\n",
      "\n"
     ]
    }
   ],
   "source": [
    "from sklearn.metrics import classification_report\n",
    "import numpy as np\n",
    "\n",
    "# Predict the classes of the test set\n",
    "predictions = pretrained_model.predict(resized_test_ds)\n",
    "predicted_classes = np.argmax(predictions, axis=1)\n",
    "\n",
    "# Assuming you have the true labels of the test set in 'true_classes'\n",
    "true_classes = test_ds.map(lambda image, label: label).unbatch().as_numpy_iterator()\n",
    "true_classes = np.array(list(true_classes))\n",
    "\n",
    "# Define class names\n",
    "class_names = ['cloudy', 'rain', 'shine', 'sunrise']\n",
    "\n",
    "print(classification_report(true_classes, predicted_classes, target_names=class_names))"
   ]
  },
  {
   "cell_type": "markdown",
   "metadata": {},
   "source": [
    "#### **Comments:**\n",
    "\n",
    "The accuracy of the best system on each weather category is as follows:\n",
    "\n",
    "- Cloudy: 100%\n",
    "- Rain: 100%\n",
    "- Shine: 100%\n",
    "- Sunrise: 100%\n",
    "\n",
    "**Since the accuracy for all categories is 100%, it indicates that the model did not have difficulty detecting any particular type of weather**"
   ]
  },
  {
   "cell_type": "markdown",
   "metadata": {},
   "source": [
    "Thank you for reading and marking my assignment!"
   ]
  }
 ],
 "metadata": {
  "accelerator": "GPU",
  "colab": {
   "gpuType": "T4",
   "provenance": []
  },
  "kernelspec": {
   "display_name": "Python 3 (ipykernel)",
   "language": "python",
   "name": "python3"
  },
  "language_info": {
   "codemirror_mode": {
    "name": "ipython",
    "version": 3
   },
   "file_extension": ".py",
   "mimetype": "text/x-python",
   "name": "python",
   "nbconvert_exporter": "python",
   "pygments_lexer": "ipython3",
   "version": "3.11.7"
  }
 },
 "nbformat": 4,
 "nbformat_minor": 4
}
